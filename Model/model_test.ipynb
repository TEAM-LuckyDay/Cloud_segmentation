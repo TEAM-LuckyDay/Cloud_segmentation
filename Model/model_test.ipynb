{
  "cells": [
    {
      "cell_type": "markdown",
      "metadata": {
        "id": "JUEX1yT6ObHp"
      },
      "source": [
        "# Import Library"
      ]
    },
    {
      "cell_type": "code",
      "execution_count": 1,
      "metadata": {
        "id": "ROaksixkOV2l"
      },
      "outputs": [],
      "source": [
        "import numpy as np\n",
        "import math\n",
        "import natsort\n",
        "import cv2\n",
        "import os\n",
        "import matplotlib.pyplot as plt\n",
        "from google.colab import drive\n",
        "from glob import glob\n",
        "\n",
        "from PIL import Image\n",
        "\n",
        "import tensorflow as tf\n",
        "from tensorflow import keras\n",
        "\n",
        "import tensorflow_datasets as tfds\n",
        "\n",
        "from tensorflow.keras.utils import *\n",
        "from tensorflow.keras.models import *\n",
        "from tensorflow.keras.layers import *\n",
        "from tensorflow.keras.optimizers import *"
      ]
    },
    {
      "cell_type": "code",
      "execution_count": 2,
      "metadata": {
        "colab": {
          "base_uri": "https://localhost:8080/"
        },
        "id": "aDEc6D04OdMw",
        "outputId": "4deeda47-7a55-454c-b0e3-a486f904dfc5"
      },
      "outputs": [
        {
          "output_type": "stream",
          "name": "stdout",
          "text": [
            "Mounted at /content/drive\n"
          ]
        }
      ],
      "source": [
        "drive.mount('/content/drive')"
      ]
    },
    {
      "cell_type": "markdown",
      "metadata": {
        "id": "E2LOYbAPOkwt"
      },
      "source": [
        "# Data Loder"
      ]
    },
    {
      "cell_type": "code",
      "execution_count": 3,
      "metadata": {
        "id": "0IXRaHPoPOa-"
      },
      "outputs": [],
      "source": [
        "def sortlist(filelist):\n",
        "    filelist = natsort.natsorted(filelist)\n",
        "    return filelist"
      ]
    },
    {
      "cell_type": "code",
      "execution_count": 4,
      "metadata": {
        "id": "4SZpwghSOfP7"
      },
      "outputs": [],
      "source": [
        "dir_path = '/content/drive/MyDrive/Cloud_data/cloud_train'\n",
        "input_images = glob(os.path.join(dir_path, \"patch_img\", \"*png\"))\n",
        "input_images = sortlist(input_images)"
      ]
    },
    {
      "cell_type": "code",
      "execution_count": 23,
      "metadata": {
        "id": "dfIKSPWLPt9O"
      },
      "outputs": [],
      "source": [
        "class CloudGenerator(Sequence):\n",
        "    def __init__(self,\n",
        "                 dir_path,\n",
        "                 batch_size = 16,\n",
        "                 img_size = (1024,1024,3),\n",
        "                 output_size = (1024,1024),\n",
        "                 is_train = True):\n",
        "        \n",
        "        self.dir_path = dir_path\n",
        "        self.batch_size = batch_size\n",
        "        self.img_size = img_size\n",
        "        self.output_size = output_size\n",
        "        self.is_train = is_train\n",
        "\n",
        "        self.data = self.load_dataset()\n",
        "    \n",
        "    def load_dataset(self):\n",
        "        input_images = glob(os.path.join(self.dir_path,\"patch_img\",\"*png\"))\n",
        "        label_images = glob(os.path.join(self.dir_path,\"patch_label\",\"*png\"))\n",
        "        input_images = sortlist(input_images)\n",
        "        label_images = sortlist(label_images)\n",
        "        \n",
        "        assert len(input_images) == len(label_images)\n",
        "        data = [ _ for _ in zip(input_images, label_images)]\n",
        "        \n",
        "        train_percent = int(len(data) * 0.8)\n",
        "\n",
        "        if self.is_train:\n",
        "            return data[:train_percent]\n",
        "        return data[train_percent:]\n",
        "\n",
        "    def __getitem__(self, index):\n",
        "        batch_data = self.data[\n",
        "                           index*self.batch_size:\n",
        "                           (index + 1)*self.batch_size\n",
        "                           ]\n",
        "        inputs = np.zeros([self.batch_size, *self.img_size])\n",
        "        outputs = np.zeros([self.batch_size, *self.output_size])\n",
        "            \n",
        "        for i, data in enumerate(batch_data):\n",
        "            input_img_path, output_path = data\n",
        "            _input = cv2.imread(input_img_path)\n",
        "            _output = cv2.imread(output_path)\n",
        "            _output = (_output==50).astype(np.uint8)*1\n",
        "            #data = {\n",
        "            #    \"image\": _input,\n",
        "            #    \"mask\": _output,\n",
        "            #    }\n",
        "            #augmented = self.augmentation(**data)\n",
        "            #inputs[i] = augmented[\"image\"]/255\n",
        "            #outputs[i] = augmented[\"mask\"]\n",
        "            _input = _input/255\n",
        "            \n",
        "            return _input, _output\n",
        "\n",
        "    def __len__(self):\n",
        "        return math.ceil(len(self.data) / self.batch_size)\n",
        "    \n",
        "    def on_epoch_end(self):\n",
        "        self.indexes = np.arange(len(self.data))\n",
        "        if self.is_train == True :\n",
        "            np.random.shuffle(self.indexes)\n",
        "            return self.indexes"
      ]
    },
    {
      "cell_type": "code",
      "execution_count": 24,
      "metadata": {
        "id": "kVaZ_wfrTjqT"
      },
      "outputs": [],
      "source": [
        "train_generator = CloudGenerator(\n",
        "    dir_path,\n",
        "    is_train=True\n",
        ")\n",
        "\n",
        "test_generator = CloudGenerator(\n",
        "    dir_path,\n",
        "    is_train=False\n",
        ")"
      ]
    },
    {
      "cell_type": "markdown",
      "metadata": {
        "id": "5o4C6ccOBMRZ"
      },
      "source": [
        "# Build U-net Model"
      ]
    },
    {
      "cell_type": "code",
      "execution_count": 32,
      "metadata": {
        "id": "44Ks8oGVBNmk"
      },
      "outputs": [],
      "source": [
        "def build_unet_model(input_shape=(1024, 1024, 3)):\n",
        "    inputs = Input(input_shape)\n",
        "\n",
        "    #Contracting Path\n",
        "    conv1 = Conv2D(64, 3, activation='relu', padding='same',kernel_initializer='he_normal')(inputs)\n",
        "    conv1 = Conv2D(64, 3, activation='relu', padding='same',kernel_initializer='he_normal')(conv1)\n",
        "    pool1 = MaxPooling2D(pool_size=(2, 2))(conv1)\n",
        "    conv2 = Conv2D(128, 3, activation='relu', padding='same',kernel_initializer='he_normal')(pool1)\n",
        "    conv2 = Conv2D(128, 3, activation='relu', padding='same',kernel_initializer='he_normal')(conv2)\n",
        "    pool2 = MaxPooling2D(pool_size=(2, 2))(conv2)\n",
        "    conv3 = Conv2D(256, 3, activation='relu', padding='same',kernel_initializer='he_normal')(pool2)\n",
        "    conv3 = Conv2D(256, 3, activation='relu', padding='same',kernel_initializer='he_normal')(conv3)\n",
        "    pool3 = MaxPooling2D(pool_size=(2, 2))(conv3)\n",
        "    conv4 = Conv2D(512, 3, activation='relu', padding='same',kernel_initializer='he_normal')(pool3)\n",
        "    conv4 = Conv2D(512, 3, activation='relu', padding='same',kernel_initializer='he_normal')(conv4)\n",
        "    drop4 = Dropout(0.5)(conv4)\n",
        "    pool4 = MaxPooling2D(pool_size=(2, 2))(drop4)\n",
        "\n",
        "    conv5 = Conv2D(1024, 3, activation='relu', padding='same',kernel_initializer='he_normal')(pool4)  \n",
        "    conv5 = Conv2D(1024, 3, activation='relu', padding='same',kernel_initializer='he_normal')(conv5)\n",
        "\n",
        "    # #Expanding Path\n",
        "    drop5 = Dropout(0.5)(conv5)\n",
        "    up6 = Conv2DTranspose(512, 2, activation='relu', strides=(2,2), kernel_initializer='he_normal')(drop5)\n",
        "    merge6 = concatenate([drop4,up6], axis = 3)\n",
        "    conv6 = Conv2D(512, 3, activation='relu', padding='same',kernel_initializer='he_normal')(merge6)\n",
        "    conv6 = Conv2D(512, 3, activation='relu', padding='same',kernel_initializer='he_normal')(conv6)\n",
        "    up7 = Conv2DTranspose(256, 2, activation='relu', strides=(2,2), kernel_initializer='he_normal')(conv6)\n",
        "    merge7 = concatenate([conv3,up7], axis = 3)\n",
        "    conv7 = Conv2D(256, 3, activation='relu', padding='same',kernel_initializer='he_normal')(merge7)\n",
        "    conv7 = Conv2D(256, 3, activation='relu', padding='same',kernel_initializer='he_normal')(conv7)\n",
        "    up8 = Conv2DTranspose(128, 2, activation='relu', strides=(2,2), kernel_initializer='he_normal')(conv7)\n",
        "    merge8 = concatenate([conv2,up8], axis = 3)\n",
        "    conv8 = Conv2D(128, 3, activation='relu', padding='same',kernel_initializer='he_normal')(merge8)\n",
        "    conv8 = Conv2D(128, 3, activation='relu', padding='same',kernel_initializer='he_normal')(conv8)\n",
        "    up9 = Conv2DTranspose(64, 2, activation='relu', strides=(2,2), kernel_initializer='he_normal')(conv8)\n",
        "    merge9 = concatenate([conv1,up9], axis = 3)\n",
        "    conv9 = Conv2D(64, 3, activation='relu', padding='same',kernel_initializer='he_normal')(merge9)\n",
        "    conv9 = Conv2D(64, 3, activation='relu', padding='same',kernel_initializer='he_normal')(conv9)  \n",
        "    conv9 = Conv2D(2, 3, activation='relu', padding='same',kernel_initializer='he_normal')(conv9)     \n",
        "    conv10 = Conv2D(1, 1, activation='sigmoid')(conv9)\n",
        "\n",
        "    model = Model(inputs = inputs, outputs = conv10)\n",
        "    return model"
      ]
    },
    {
      "cell_type": "code",
      "source": [
        "unet_model = build_unet_model()\n",
        "unet_model.summary()"
      ],
      "metadata": {
        "colab": {
          "base_uri": "https://localhost:8080/"
        },
        "id": "963U-IZ_4m9f",
        "outputId": "215c2df5-fd48-41c7-e8e4-c9d9d400a51d"
      },
      "execution_count": 33,
      "outputs": [
        {
          "output_type": "stream",
          "name": "stdout",
          "text": [
            "Model: \"model_9\"\n",
            "__________________________________________________________________________________________________\n",
            " Layer (type)                   Output Shape         Param #     Connected to                     \n",
            "==================================================================================================\n",
            " input_12 (InputLayer)          [(None, 1000, 1000,  0           []                               \n",
            "                                 3)]                                                              \n",
            "                                                                                                  \n",
            " conv2d_172 (Conv2D)            (None, 1000, 1000,   1792        ['input_12[0][0]']               \n",
            "                                64)                                                               \n",
            "                                                                                                  \n",
            " conv2d_173 (Conv2D)            (None, 1000, 1000,   36928       ['conv2d_172[0][0]']             \n",
            "                                64)                                                               \n",
            "                                                                                                  \n",
            " max_pooling2d_44 (MaxPooling2D  (None, 500, 500, 64  0          ['conv2d_173[0][0]']             \n",
            " )                              )                                                                 \n",
            "                                                                                                  \n",
            " conv2d_174 (Conv2D)            (None, 500, 500, 12  73856       ['max_pooling2d_44[0][0]']       \n",
            "                                8)                                                                \n",
            "                                                                                                  \n",
            " conv2d_175 (Conv2D)            (None, 500, 500, 12  147584      ['conv2d_174[0][0]']             \n",
            "                                8)                                                                \n",
            "                                                                                                  \n",
            " max_pooling2d_45 (MaxPooling2D  (None, 250, 250, 12  0          ['conv2d_175[0][0]']             \n",
            " )                              8)                                                                \n",
            "                                                                                                  \n",
            " conv2d_176 (Conv2D)            (None, 250, 250, 25  295168      ['max_pooling2d_45[0][0]']       \n",
            "                                6)                                                                \n",
            "                                                                                                  \n",
            " conv2d_177 (Conv2D)            (None, 250, 250, 25  590080      ['conv2d_176[0][0]']             \n",
            "                                6)                                                                \n",
            "                                                                                                  \n",
            " max_pooling2d_46 (MaxPooling2D  (None, 125, 125, 25  0          ['conv2d_177[0][0]']             \n",
            " )                              6)                                                                \n",
            "                                                                                                  \n",
            " conv2d_178 (Conv2D)            (None, 125, 125, 51  1180160     ['max_pooling2d_46[0][0]']       \n",
            "                                2)                                                                \n",
            "                                                                                                  \n",
            " conv2d_179 (Conv2D)            (None, 125, 125, 51  2359808     ['conv2d_178[0][0]']             \n",
            "                                2)                                                                \n",
            "                                                                                                  \n",
            " dropout_20 (Dropout)           (None, 125, 125, 51  0           ['conv2d_179[0][0]']             \n",
            "                                2)                                                                \n",
            "                                                                                                  \n",
            " max_pooling2d_47 (MaxPooling2D  (None, 62, 62, 512)  0          ['dropout_20[0][0]']             \n",
            " )                                                                                                \n",
            "                                                                                                  \n",
            " conv2d_180 (Conv2D)            (None, 62, 62, 1024  4719616     ['max_pooling2d_47[0][0]']       \n",
            "                                )                                                                 \n",
            "                                                                                                  \n",
            " conv2d_181 (Conv2D)            (None, 62, 62, 1024  9438208     ['conv2d_180[0][0]']             \n",
            "                                )                                                                 \n",
            "                                                                                                  \n",
            " dropout_21 (Dropout)           (None, 62, 62, 1024  0           ['conv2d_181[0][0]']             \n",
            "                                )                                                                 \n",
            "                                                                                                  \n",
            " conv2d_transpose_27 (Conv2DTra  (None, 125, 125, 51  4719104    ['dropout_21[0][0]']             \n",
            " nspose)                        2)                                                                \n",
            "                                                                                                  \n",
            " concatenate_27 (Concatenate)   (None, 125, 125, 10  0           ['dropout_20[0][0]',             \n",
            "                                24)                               'conv2d_transpose_27[0][0]']    \n",
            "                                                                                                  \n",
            " conv2d_182 (Conv2D)            (None, 125, 125, 51  4719104     ['concatenate_27[0][0]']         \n",
            "                                2)                                                                \n",
            "                                                                                                  \n",
            " conv2d_183 (Conv2D)            (None, 125, 125, 51  2359808     ['conv2d_182[0][0]']             \n",
            "                                2)                                                                \n",
            "                                                                                                  \n",
            " conv2d_transpose_28 (Conv2DTra  (None, 250, 250, 25  524544     ['conv2d_183[0][0]']             \n",
            " nspose)                        6)                                                                \n",
            "                                                                                                  \n",
            " concatenate_28 (Concatenate)   (None, 250, 250, 51  0           ['conv2d_177[0][0]',             \n",
            "                                2)                                'conv2d_transpose_28[0][0]']    \n",
            "                                                                                                  \n",
            " conv2d_184 (Conv2D)            (None, 250, 250, 25  1179904     ['concatenate_28[0][0]']         \n",
            "                                6)                                                                \n",
            "                                                                                                  \n",
            " conv2d_185 (Conv2D)            (None, 250, 250, 25  590080      ['conv2d_184[0][0]']             \n",
            "                                6)                                                                \n",
            "                                                                                                  \n",
            " conv2d_transpose_29 (Conv2DTra  (None, 500, 500, 12  131200     ['conv2d_185[0][0]']             \n",
            " nspose)                        8)                                                                \n",
            "                                                                                                  \n",
            " concatenate_29 (Concatenate)   (None, 500, 500, 25  0           ['conv2d_175[0][0]',             \n",
            "                                6)                                'conv2d_transpose_29[0][0]']    \n",
            "                                                                                                  \n",
            " conv2d_186 (Conv2D)            (None, 500, 500, 12  295040      ['concatenate_29[0][0]']         \n",
            "                                8)                                                                \n",
            "                                                                                                  \n",
            " conv2d_187 (Conv2D)            (None, 500, 500, 12  147584      ['conv2d_186[0][0]']             \n",
            "                                8)                                                                \n",
            "                                                                                                  \n",
            " conv2d_transpose_30 (Conv2DTra  (None, 1000, 1000,   32832      ['conv2d_187[0][0]']             \n",
            " nspose)                        64)                                                               \n",
            "                                                                                                  \n",
            " concatenate_30 (Concatenate)   (None, 1000, 1000,   0           ['conv2d_173[0][0]',             \n",
            "                                128)                              'conv2d_transpose_30[0][0]']    \n",
            "                                                                                                  \n",
            " conv2d_188 (Conv2D)            (None, 1000, 1000,   73792       ['concatenate_30[0][0]']         \n",
            "                                64)                                                               \n",
            "                                                                                                  \n",
            " conv2d_189 (Conv2D)            (None, 1000, 1000,   36928       ['conv2d_188[0][0]']             \n",
            "                                64)                                                               \n",
            "                                                                                                  \n",
            " conv2d_190 (Conv2D)            (None, 1000, 1000,   1154        ['conv2d_189[0][0]']             \n",
            "                                2)                                                                \n",
            "                                                                                                  \n",
            " conv2d_191 (Conv2D)            (None, 1000, 1000,   3           ['conv2d_190[0][0]']             \n",
            "                                1)                                                                \n",
            "                                                                                                  \n",
            "==================================================================================================\n",
            "Total params: 33,654,277\n",
            "Trainable params: 33,654,277\n",
            "Non-trainable params: 0\n",
            "__________________________________________________________________________________________________\n"
          ]
        }
      ]
    },
    {
      "cell_type": "code",
      "source": [
        "print(len(train_generator))"
      ],
      "metadata": {
        "colab": {
          "base_uri": "https://localhost:8080/"
        },
        "id": "7CJT6xll8cFb",
        "outputId": "35bbf7a1-e091-450e-9188-ea6ac42a8a48"
      },
      "execution_count": 31,
      "outputs": [
        {
          "output_type": "stream",
          "name": "stdout",
          "text": [
            "163\n"
          ]
        }
      ]
    },
    {
      "cell_type": "code",
      "execution_count": 34,
      "metadata": {
        "id": "3Lyp4p-_BbOZ",
        "colab": {
          "base_uri": "https://localhost:8080/",
          "height": 929
        },
        "outputId": "572630ed-f0b7-4102-a74b-dec6167a76fe"
      },
      "outputs": [
        {
          "output_type": "stream",
          "name": "stderr",
          "text": [
            "/usr/local/lib/python3.7/dist-packages/keras/optimizer_v2/adam.py:105: UserWarning: The `lr` argument is deprecated, use `learning_rate` instead.\n",
            "  super(Adam, self).__init__(name, **kwargs)\n",
            "/usr/local/lib/python3.7/dist-packages/ipykernel_launcher.py:9: UserWarning: `Model.fit_generator` is deprecated and will be removed in a future version. Please use `Model.fit`, which supports generators.\n",
            "  if __name__ == '__main__':\n"
          ]
        },
        {
          "output_type": "stream",
          "name": "stdout",
          "text": [
            "Epoch 1/100\n",
            "WARNING:tensorflow:Model was constructed with shape (None, 1000, 1000, 3) for input KerasTensor(type_spec=TensorSpec(shape=(None, 1000, 1000, 3), dtype=tf.float32, name='input_13'), name='input_13', description=\"created by layer 'input_13'\"), but it was called on an input with incompatible shape (None, None, None).\n"
          ]
        },
        {
          "output_type": "error",
          "ename": "ValueError",
          "evalue": "ignored",
          "traceback": [
            "\u001b[0;31m---------------------------------------------------------------------------\u001b[0m",
            "\u001b[0;31mValueError\u001b[0m                                Traceback (most recent call last)",
            "\u001b[0;32m<ipython-input-34-4923f4950855>\u001b[0m in \u001b[0;36m<module>\u001b[0;34m()\u001b[0m\n\u001b[1;32m      7\u001b[0m      \u001b[0mvalidation_data\u001b[0m\u001b[0;34m=\u001b[0m\u001b[0mtest_generator\u001b[0m\u001b[0;34m,\u001b[0m\u001b[0;34m\u001b[0m\u001b[0;34m\u001b[0m\u001b[0m\n\u001b[1;32m      8\u001b[0m      \u001b[0msteps_per_epoch\u001b[0m\u001b[0;34m=\u001b[0m\u001b[0mlen\u001b[0m\u001b[0;34m(\u001b[0m\u001b[0mtrain_generator\u001b[0m\u001b[0;34m)\u001b[0m\u001b[0;34m,\u001b[0m\u001b[0;34m\u001b[0m\u001b[0;34m\u001b[0m\u001b[0m\n\u001b[0;32m----> 9\u001b[0;31m      \u001b[0mepochs\u001b[0m\u001b[0;34m=\u001b[0m\u001b[0;36m100\u001b[0m\u001b[0;34m,\u001b[0m\u001b[0;34m\u001b[0m\u001b[0;34m\u001b[0m\u001b[0m\n\u001b[0m\u001b[1;32m     10\u001b[0m  )\n\u001b[1;32m     11\u001b[0m \u001b[0;34m\u001b[0m\u001b[0m\n",
            "\u001b[0;32m/usr/local/lib/python3.7/dist-packages/keras/engine/training.py\u001b[0m in \u001b[0;36mfit_generator\u001b[0;34m(self, generator, steps_per_epoch, epochs, verbose, callbacks, validation_data, validation_steps, validation_freq, class_weight, max_queue_size, workers, use_multiprocessing, shuffle, initial_epoch)\u001b[0m\n\u001b[1;32m   2028\u001b[0m         \u001b[0muse_multiprocessing\u001b[0m\u001b[0;34m=\u001b[0m\u001b[0muse_multiprocessing\u001b[0m\u001b[0;34m,\u001b[0m\u001b[0;34m\u001b[0m\u001b[0;34m\u001b[0m\u001b[0m\n\u001b[1;32m   2029\u001b[0m         \u001b[0mshuffle\u001b[0m\u001b[0;34m=\u001b[0m\u001b[0mshuffle\u001b[0m\u001b[0;34m,\u001b[0m\u001b[0;34m\u001b[0m\u001b[0;34m\u001b[0m\u001b[0m\n\u001b[0;32m-> 2030\u001b[0;31m         initial_epoch=initial_epoch)\n\u001b[0m\u001b[1;32m   2031\u001b[0m \u001b[0;34m\u001b[0m\u001b[0m\n\u001b[1;32m   2032\u001b[0m   \u001b[0;34m@\u001b[0m\u001b[0mdoc_controls\u001b[0m\u001b[0;34m.\u001b[0m\u001b[0mdo_not_generate_docs\u001b[0m\u001b[0;34m\u001b[0m\u001b[0;34m\u001b[0m\u001b[0m\n",
            "\u001b[0;32m/usr/local/lib/python3.7/dist-packages/keras/utils/traceback_utils.py\u001b[0m in \u001b[0;36merror_handler\u001b[0;34m(*args, **kwargs)\u001b[0m\n\u001b[1;32m     65\u001b[0m     \u001b[0;32mexcept\u001b[0m \u001b[0mException\u001b[0m \u001b[0;32mas\u001b[0m \u001b[0me\u001b[0m\u001b[0;34m:\u001b[0m  \u001b[0;31m# pylint: disable=broad-except\u001b[0m\u001b[0;34m\u001b[0m\u001b[0;34m\u001b[0m\u001b[0m\n\u001b[1;32m     66\u001b[0m       \u001b[0mfiltered_tb\u001b[0m \u001b[0;34m=\u001b[0m \u001b[0m_process_traceback_frames\u001b[0m\u001b[0;34m(\u001b[0m\u001b[0me\u001b[0m\u001b[0;34m.\u001b[0m\u001b[0m__traceback__\u001b[0m\u001b[0;34m)\u001b[0m\u001b[0;34m\u001b[0m\u001b[0;34m\u001b[0m\u001b[0m\n\u001b[0;32m---> 67\u001b[0;31m       \u001b[0;32mraise\u001b[0m \u001b[0me\u001b[0m\u001b[0;34m.\u001b[0m\u001b[0mwith_traceback\u001b[0m\u001b[0;34m(\u001b[0m\u001b[0mfiltered_tb\u001b[0m\u001b[0;34m)\u001b[0m \u001b[0;32mfrom\u001b[0m \u001b[0;32mNone\u001b[0m\u001b[0;34m\u001b[0m\u001b[0;34m\u001b[0m\u001b[0m\n\u001b[0m\u001b[1;32m     68\u001b[0m     \u001b[0;32mfinally\u001b[0m\u001b[0;34m:\u001b[0m\u001b[0;34m\u001b[0m\u001b[0;34m\u001b[0m\u001b[0m\n\u001b[1;32m     69\u001b[0m       \u001b[0;32mdel\u001b[0m \u001b[0mfiltered_tb\u001b[0m\u001b[0;34m\u001b[0m\u001b[0;34m\u001b[0m\u001b[0m\n",
            "\u001b[0;32m/usr/local/lib/python3.7/dist-packages/tensorflow/python/framework/func_graph.py\u001b[0m in \u001b[0;36mautograph_handler\u001b[0;34m(*args, **kwargs)\u001b[0m\n\u001b[1;32m   1127\u001b[0m           \u001b[0;32mexcept\u001b[0m \u001b[0mException\u001b[0m \u001b[0;32mas\u001b[0m \u001b[0me\u001b[0m\u001b[0;34m:\u001b[0m  \u001b[0;31m# pylint:disable=broad-except\u001b[0m\u001b[0;34m\u001b[0m\u001b[0;34m\u001b[0m\u001b[0m\n\u001b[1;32m   1128\u001b[0m             \u001b[0;32mif\u001b[0m \u001b[0mhasattr\u001b[0m\u001b[0;34m(\u001b[0m\u001b[0me\u001b[0m\u001b[0;34m,\u001b[0m \u001b[0;34m\"ag_error_metadata\"\u001b[0m\u001b[0;34m)\u001b[0m\u001b[0;34m:\u001b[0m\u001b[0;34m\u001b[0m\u001b[0;34m\u001b[0m\u001b[0m\n\u001b[0;32m-> 1129\u001b[0;31m               \u001b[0;32mraise\u001b[0m \u001b[0me\u001b[0m\u001b[0;34m.\u001b[0m\u001b[0mag_error_metadata\u001b[0m\u001b[0;34m.\u001b[0m\u001b[0mto_exception\u001b[0m\u001b[0;34m(\u001b[0m\u001b[0me\u001b[0m\u001b[0;34m)\u001b[0m\u001b[0;34m\u001b[0m\u001b[0;34m\u001b[0m\u001b[0m\n\u001b[0m\u001b[1;32m   1130\u001b[0m             \u001b[0;32melse\u001b[0m\u001b[0;34m:\u001b[0m\u001b[0;34m\u001b[0m\u001b[0;34m\u001b[0m\u001b[0m\n\u001b[1;32m   1131\u001b[0m               \u001b[0;32mraise\u001b[0m\u001b[0;34m\u001b[0m\u001b[0;34m\u001b[0m\u001b[0m\n",
            "\u001b[0;31mValueError\u001b[0m: in user code:\n\n    File \"/usr/local/lib/python3.7/dist-packages/keras/engine/training.py\", line 878, in train_function  *\n        return step_function(self, iterator)\n    File \"/usr/local/lib/python3.7/dist-packages/keras/engine/training.py\", line 867, in step_function  **\n        outputs = model.distribute_strategy.run(run_step, args=(data,))\n    File \"/usr/local/lib/python3.7/dist-packages/keras/engine/training.py\", line 860, in run_step  **\n        outputs = model.train_step(data)\n    File \"/usr/local/lib/python3.7/dist-packages/keras/engine/training.py\", line 808, in train_step\n        y_pred = self(x, training=True)\n    File \"/usr/local/lib/python3.7/dist-packages/keras/utils/traceback_utils.py\", line 67, in error_handler\n        raise e.with_traceback(filtered_tb) from None\n    File \"/usr/local/lib/python3.7/dist-packages/keras/engine/input_spec.py\", line 227, in assert_input_compatibility\n        raise ValueError(f'Input {input_index} of layer \"{layer_name}\" '\n\n    ValueError: Exception encountered when calling layer \"model_10\" (type Functional).\n    \n    Input 0 of layer \"conv2d_192\" is incompatible with the layer: expected min_ndim=4, found ndim=3. Full shape received: (None, None, None)\n    \n    Call arguments received:\n      • inputs=tf.Tensor(shape=(None, None, None), dtype=float32)\n      • training=True\n      • mask=None\n"
          ]
        }
      ],
      "source": [
        "unet_model_path = '/content/drive/MyDrive/Cloud_data/cloud_model/seg_unet_model.h5'\n",
        "\n",
        "unet_model = build_unet_model()\n",
        "unet_model.compile(optimizer = Adam(lr = 1e-4), loss = 'binary_crossentropy')\n",
        "unet_model.fit_generator(\n",
        "     generator=train_generator,\n",
        "     validation_data=test_generator,\n",
        "     steps_per_epoch=len(train_generator),\n",
        "     epochs=100,\n",
        " )\n",
        "\n",
        "unet_model.save(unet_model_path)  #학습한 모델을 저장해 주세요."
      ]
    },
    {
      "cell_type": "markdown",
      "source": [
        "# Load U-netModel"
      ],
      "metadata": {
        "id": "55IEiZlPSVt2"
      }
    },
    {
      "cell_type": "code",
      "source": [
        "Unet_model = tf.keras.models.load_model(unet_model_path)"
      ],
      "metadata": {
        "id": "uLpiY24RSVXM"
      },
      "execution_count": null,
      "outputs": []
    },
    {
      "cell_type": "code",
      "source": [
        "def calculate_iou_score(target, prediction):\n",
        "    intersection = np.logical_and(target, prediction)\n",
        "    union = np.logical_or(target, prediction)\n",
        "    iou_score = float(np.sum(intersection)) / float(np.sum(union))\n",
        "    print('IoU : %f' % iou_score )\n",
        "    return iou_score"
      ],
      "metadata": {
        "id": "QJ_Eg9tgu1qL"
      },
      "execution_count": null,
      "outputs": []
    },
    {
      "cell_type": "code",
      "source": [
        "def get_output(model, image_path, output_path, label_path):\n",
        "    origin_img = cv2.imread(image_path)\n",
        "    output = model(np.expand_dims(origin_img/255, axis=0))\n",
        "    output = (output[0].numpy()>=0.5).astype(np.uint8).squeeze(-1)*255  #0.5라는 threshold를 변경하면 도로인식 결과범위가 달라집니다.\n",
        "    prediction = output/255   # 도로로 판단한 영역\n",
        "    \n",
        "    output = Image.fromarray(output)\n",
        "    background = Image.fromarray(origin_img).convert('RGBA')\n",
        "    output = output.resize((origin_img.shape[1], origin_img.shape[0])).convert('RGBA')\n",
        "    output = Image.blend(background, output, alpha=0.5)\n",
        "    output.show()   # 도로로 판단한 영역을 시각화!\n",
        "     \n",
        "    if label_path:   \n",
        "        label_img = cv2.imread(label_path)\n",
        "        target = (label_img == 50).astype(np.uint8)*1   # 라벨에서 도로로 기재된 영역\n",
        "\n",
        "        return output, prediction, target\n",
        "    else:\n",
        "        return output, prediction, _"
      ],
      "metadata": {
        "id": "DraqQ1p9xTSn"
      },
      "execution_count": null,
      "outputs": []
    },
    {
      "cell_type": "code",
      "source": [
        " #dir_path = '/content/drive/MyDrive/Cloud_data/cloud_train'\n",
        " \n",
        " # 완성한 뒤에는 시각화한 결과를 눈으로 확인해봅시다!\n",
        "i = 1    # i값을 바꾸면 테스트용 파일이 달라집니다. \n",
        "output, prediction, target = get_output(\n",
        "     Unet_model, \n",
        "     image_path=dir_path + f'/image_2/00{str(i).zfill(4)}_10.png',\n",
        "     output_path=dir_path + f'/result_{str(i).zfill(3)}.png',\n",
        "     label_path=dir_path + f'/semantic/00{str(i).zfill(4)}_10.png'\n",
        " )\n",
        "\n",
        "calculate_iou_score(target, prediction)"
      ],
      "metadata": {
        "id": "RXRswA82wUT4"
      },
      "execution_count": null,
      "outputs": []
    }
  ],
  "metadata": {
    "colab": {
      "collapsed_sections": [],
      "name": "Untitled0.ipynb",
      "provenance": []
    },
    "kernelspec": {
      "display_name": "Python 3",
      "name": "python3"
    },
    "language_info": {
      "name": "python"
    }
  },
  "nbformat": 4,
  "nbformat_minor": 0
}