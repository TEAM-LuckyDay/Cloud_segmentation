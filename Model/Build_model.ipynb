{
 "cells": [
  {
   "cell_type": "markdown",
   "metadata": {
    "id": "JUEX1yT6ObHp"
   },
   "source": [
    "# Import Library"
   ]
  },
  {
   "cell_type": "code",
   "execution_count": null,
   "metadata": {
    "id": "ROaksixkOV2l"
   },
   "outputs": [],
   "source": [
    "import numpy as np\n",
    "import math\n",
    "import natsort\n",
    "import cv2\n",
    "import os\n",
    "import matplotlib.pyplot as plt\n",
    "from google.colab import drive\n",
    "from glob import glob\n",
    "\n",
    "import tensorflow as tf\n",
    "from tensorflow import keras\n",
    "\n",
    "import tensorflow_datasets as tfds\n",
    "\n",
    "from tensorflow.keras.utils import *\n",
    "from tensorflow.keras.models import *\n",
    "from tensorflow.keras.layers import *\n",
    "from tensorflow.keras.optimizers import *"
   ]
  },
  {
   "cell_type": "code",
   "execution_count": null,
   "metadata": {
    "colab": {
     "base_uri": "https://localhost:8080/"
    },
    "id": "aDEc6D04OdMw",
    "outputId": "30f8407c-368f-47aa-8f19-57a4fc945079"
   },
   "outputs": [
    {
     "name": "stdout",
     "output_type": "stream",
     "text": [
      "Mounted at /content/drive\n"
     ]
    }
   ],
   "source": [
    "drive.mount('/content/drive')"
   ]
  },
  {
   "cell_type": "markdown",
   "metadata": {
    "id": "E2LOYbAPOkwt"
   },
   "source": [
    "# Data Loder"
   ]
  },
  {
   "cell_type": "code",
   "execution_count": 1,
   "metadata": {
    "ExecuteTime": {
     "end_time": "2022-02-23T07:10:32.105924Z",
     "start_time": "2022-02-23T07:10:32.103513Z"
    },
    "id": "0IXRaHPoPOa-"
   },
   "outputs": [],
   "source": [
    "def sortlist(filelist):\n",
    "    filelist = natsort.natsorted(filelist)\n",
    "    return filelist"
   ]
  },
  {
   "cell_type": "code",
   "execution_count": 2,
   "metadata": {
    "ExecuteTime": {
     "end_time": "2022-02-23T07:10:33.586136Z",
     "start_time": "2022-02-23T07:10:33.507624Z"
    },
    "id": "4SZpwghSOfP7"
   },
   "outputs": [
    {
     "ename": "NameError",
     "evalue": "name 'glob' is not defined",
     "output_type": "error",
     "traceback": [
      "\u001b[0;31m---------------------------------------------------------------------------\u001b[0m",
      "\u001b[0;31mNameError\u001b[0m                                 Traceback (most recent call last)",
      "\u001b[0;32m<ipython-input-2-2ad23e712df8>\u001b[0m in \u001b[0;36m<module>\u001b[0;34m\u001b[0m\n\u001b[1;32m      1\u001b[0m \u001b[0mdir_path\u001b[0m \u001b[0;34m=\u001b[0m \u001b[0;34m'/content/drive/MyDrive/Cloud_data/cloud_train'\u001b[0m\u001b[0;34m\u001b[0m\u001b[0;34m\u001b[0m\u001b[0m\n\u001b[0;32m----> 2\u001b[0;31m \u001b[0minput_images\u001b[0m \u001b[0;34m=\u001b[0m \u001b[0mglob\u001b[0m\u001b[0;34m(\u001b[0m\u001b[0mos\u001b[0m\u001b[0;34m.\u001b[0m\u001b[0mpath\u001b[0m\u001b[0;34m.\u001b[0m\u001b[0mjoin\u001b[0m\u001b[0;34m(\u001b[0m\u001b[0mdir_path\u001b[0m\u001b[0;34m,\u001b[0m \u001b[0;34m\"patch_img\"\u001b[0m\u001b[0;34m,\u001b[0m \u001b[0;34m\"*png\"\u001b[0m\u001b[0;34m)\u001b[0m\u001b[0;34m)\u001b[0m\u001b[0;34m\u001b[0m\u001b[0;34m\u001b[0m\u001b[0m\n\u001b[0m\u001b[1;32m      3\u001b[0m \u001b[0minput_images\u001b[0m \u001b[0;34m=\u001b[0m \u001b[0msortlist\u001b[0m\u001b[0;34m(\u001b[0m\u001b[0minput_images\u001b[0m\u001b[0;34m)\u001b[0m\u001b[0;34m\u001b[0m\u001b[0;34m\u001b[0m\u001b[0m\n",
      "\u001b[0;31mNameError\u001b[0m: name 'glob' is not defined"
     ]
    }
   ],
   "source": [
    "dir_path = '/content/drive/MyDrive/Cloud_data/cloud_train'\n",
    "input_images = glob(os.path.join(dir_path, \"patch_img\", \"*png\"))\n",
    "input_images = sortlist(input_images)"
   ]
  },
  {
   "cell_type": "code",
   "execution_count": 3,
   "metadata": {
    "ExecuteTime": {
     "end_time": "2022-02-23T07:10:36.051673Z",
     "start_time": "2022-02-23T07:10:36.046110Z"
    },
    "colab": {
     "base_uri": "https://localhost:8080/"
    },
    "id": "G5GxlZ7ERaFW",
    "outputId": "b623bebb-ba66-42e3-d705-71f6c6b0a22f"
   },
   "outputs": [
    {
     "ename": "NameError",
     "evalue": "name 'input_images' is not defined",
     "output_type": "error",
     "traceback": [
      "\u001b[0;31m---------------------------------------------------------------------------\u001b[0m",
      "\u001b[0;31mNameError\u001b[0m                                 Traceback (most recent call last)",
      "\u001b[0;32m<ipython-input-3-1c8c7cdd6835>\u001b[0m in \u001b[0;36m<module>\u001b[0;34m\u001b[0m\n\u001b[0;32m----> 1\u001b[0;31m \u001b[0mprint\u001b[0m\u001b[0;34m(\u001b[0m\u001b[0mlen\u001b[0m\u001b[0;34m(\u001b[0m\u001b[0minput_images\u001b[0m\u001b[0;34m)\u001b[0m\u001b[0;34m)\u001b[0m\u001b[0;34m\u001b[0m\u001b[0;34m\u001b[0m\u001b[0m\n\u001b[0m",
      "\u001b[0;31mNameError\u001b[0m: name 'input_images' is not defined"
     ]
    }
   ],
   "source": [
    "print(len(input_images))"
   ]
  },
  {
   "cell_type": "code",
   "execution_count": null,
   "metadata": {
    "colab": {
     "base_uri": "https://localhost:8080/"
    },
    "id": "6cZcy8xqNcH9",
    "outputId": "b62b8dbb-bbb8-428f-cd9d-858b0a5d4e0a"
   },
   "outputs": [
    {
     "name": "stdout",
     "output_type": "stream",
     "text": [
      "/content/drive/MyDrive/Cloud_data/cloud_train/patch_label/img1_1.png\n"
     ]
    }
   ],
   "source": [
    "asd = '/content/drive/MyDrive/Cloud_data/cloud_train/patch_label'\n",
    "asd =  glob(os.path.join(asd,\"*png\"))\n",
    "asd = sortlist(asd)\n",
    "print(asd[0])"
   ]
  },
  {
   "cell_type": "code",
   "execution_count": null,
   "metadata": {
    "colab": {
     "base_uri": "https://localhost:8080/",
     "height": 269
    },
    "id": "AdX9JxweOGZ9",
    "outputId": "138dcacd-69a7-45e6-ffd3-2b41092f6b70"
   },
   "outputs": [
    {
     "data": {
      "image/png": "[encoded data removed]",
      "text/plain": [
       "<Figure size 432x288 with 1 Axes>"
      ]
     },
     "metadata": {},
     "output_type": "display_data"
    }
   ],
   "source": [
    "zxc = cv2.imread(asd[1])\n",
    "zxc = cv2.cvtColor(zxc, cv2.COLOR_BGR2RGB)\n",
    "plt.imshow(zxc)\n",
    "plt.show()"
   ]
  },
  {
   "cell_type": "code",
   "execution_count": 142,
   "metadata": {
    "colab": {
     "base_uri": "https://localhost:8080/"
    },
    "id": "sBc7s5gvRTBV",
    "outputId": "6d45ca4c-3263-4879-d528-97f5c8aa8d74"
   },
   "outputs": [
    {
     "name": "stdout",
     "output_type": "stream",
     "text": [
      "<class 'numpy.ndarray'>\n"
     ]
    },
    {
     "data": {
      "text/plain": [
       "array([[  0,   0,   0, ..., 255, 255, 255],\n",
       "       [  0,   0,   0, ..., 255, 255, 255],\n",
       "       [  0,   0,   0, ..., 255, 255, 255],\n",
       "       ...,\n",
       "       [  0,   0,   0, ...,   0,   0,   0],\n",
       "       [  0,   0,   0, ...,   0,   0,   0],\n",
       "       [  0,   0,   0, ...,   0,   0,   0]], dtype=uint8)"
      ]
     },
     "execution_count": 142,
     "metadata": {},
     "output_type": "execute_result"
    }
   ],
   "source": [
    "# np.unique(zxc)\n",
    "# zxc.shape[:,:,0]\n",
    "iop = np.asarray(zxc)\n",
    "print(type(iop))\n",
    "iop[:,:,0]  # 0:R, 1:G , 2:B\n",
    "#  r   g  b\n",
    "#  0   0  0 : 0\n",
    "# 255  0  0 : 1\n",
    "#  0  255 0 : 2\n",
    "# 255 255 0 : 3"
   ]
  },
  {
   "cell_type": "code",
   "execution_count": null,
   "metadata": {
    "id": "dfIKSPWLPt9O"
   },
   "outputs": [],
   "source": [
    "class CloudGenerator(Sequence):\n",
    "    def __init__(self,\n",
    "                 dir_path,\n",
    "                 batch_size = 16,\n",
    "                 img_size = (1000,1000,3),\n",
    "                 output_size = (1000,1000),\n",
    "                 is_train = True):\n",
    "        \n",
    "        self.dir_path = dir_path\n",
    "        self.batch_size = batch_size\n",
    "        self.img_size = img_size\n",
    "        self.output_size = output_size\n",
    "        self.is_train = is_train\n",
    "\n",
    "        self.data = self.load_dataset()\n",
    "    \n",
    "    def load_dataset(self):\n",
    "        input_images = glob(os.path.join(self.dir_path,\"patch_img\",\"*png\"))\n",
    "        label_images = glob(os.path.join(self.dir_path,\"patch_label\",\"*png\"))\n",
    "        \n",
    "        assert len(input_images) == len(label_images)\n",
    "        data = [ _ for _ in zip(input_images, label_images)]\n",
    "        train_percent = len(data) * 0.8\n",
    "\n",
    "        if self.is_train:\n",
    "            return data[:train_percent]\n",
    "        return data[train_percent:]\n",
    "\n",
    "    def __getitem__(self, index):\n",
    "        batch_data = self.data[\n",
    "                           index*self.batch_size:\n",
    "                           (index + 1)*self.batch_size\n",
    "                           ]\n",
    "        inputs = np.zeros([self.batch_size, *self.img_size])\n",
    "        outputs = np.zeros([self.batch_size, *self.output_size])\n",
    "            \n",
    "        for i, data in enumerate(batch_data):\n",
    "            input_img_path, output_path = data\n",
    "            _input = cv2.imread(input_img_path)\n",
    "            _output = cv2.imread(output_path)\n",
    "            _output = (_output==7).astype(np.uint8)*1\n",
    "            data = {\n",
    "                \"image\": _input,\n",
    "                \"mask\": _output,\n",
    "                }\n",
    "            augmented = self.augmentation(**data)\n",
    "            inputs[i] = augmented[\"image\"]/255\n",
    "            outputs[i] = augmented[\"mask\"]\n",
    "            return inputs, outputs\n",
    "\n",
    "    def __len__(self):\n",
    "        return math.ceil(len(self.x) / self.batch_size)\n",
    "    \n",
    "    def on_epoch_end(self):\n",
    "        self.indexes = np.arange(len(self.data))\n",
    "        if self.is_train == True :\n",
    "            np.random.shuffle(self.indexes)\n",
    "            return self.indexes"
   ]
  },
  {
   "cell_type": "code",
   "execution_count": null,
   "metadata": {
    "id": "kVaZ_wfrTjqT"
   },
   "outputs": [],
   "source": [
    "train_generator = CloudGenerator(\n",
    "    dir_path\n",
    ")\n",
    "\n",
    "test_generator = CloudGenerator(\n",
    "    dir_path,\n",
    "    is_train=False\n",
    ")"
   ]
  },
  {
   "cell_type": "markdown",
   "metadata": {
    "id": "5o4C6ccOBMRZ"
   },
   "source": [
    "# Build U-net Model"
   ]
  },
  {
   "cell_type": "code",
   "execution_count": null,
   "metadata": {
    "id": "44Ks8oGVBNmk"
   },
   "outputs": [],
   "source": [
    "def build_unet_model(input_shape=(1000, 1000, 3)):\n",
    "    inputs = Input(input_shape)\n",
    "\n",
    "    #Contracting Path\n",
    "    conv1 = Conv2D(64, 3, activation='relu', padding='same',kernel_initializer='he_normal')(inputs)\n",
    "    conv1 = Conv2D(64, 3, activation='relu', padding='same',kernel_initializer='he_normal')(conv1)\n",
    "    pool1 = MaxPooling2D(pool_size=(2, 2))(conv1)\n",
    "    conv2 = Conv2D(128, 3, activation='relu', padding='same',kernel_initializer='he_normal')(pool1)\n",
    "    conv2 = Conv2D(128, 3, activation='relu', padding='same',kernel_initializer='he_normal')(conv2)\n",
    "    pool2 = MaxPooling2D(pool_size=(2, 2))(conv2)\n",
    "    conv3 = Conv2D(256, 3, activation='relu', padding='same',kernel_initializer='he_normal')(pool2)\n",
    "    conv3 = Conv2D(256, 3, activation='relu', padding='same',kernel_initializer='he_normal')(conv3)\n",
    "    pool3 = MaxPooling2D(pool_size=(2, 2))(conv3)\n",
    "    conv4 = Conv2D(512, 3, activation='relu', padding='same',kernel_initializer='he_normal')(pool3)\n",
    "    conv4 = Conv2D(512, 3, activation='relu', padding='same',kernel_initializer='he_normal')(conv4)\n",
    "    drop4 = Dropout(0.5)(conv4)\n",
    "    pool4 = MaxPooling2D(pool_size=(2, 2))(drop4)\n",
    "\n",
    "    conv5 = Conv2D(1024, 3, activation='relu', padding='same',kernel_initializer='he_normal')(pool4)  \n",
    "    conv5 = Conv2D(1024, 3, activation='relu', padding='same',kernel_initializer='he_normal')(conv5)\n",
    "\n",
    "    #Expanding Path\n",
    "    drop5 = Dropout(0.5)(conv5)\n",
    "    up6 = Conv2DTranspose(512, 2, activation='relu', strides=(2,2), kernel_initializer='he_normal')(drop5)\n",
    "    merge6 = concatenate([drop4,up6], axis = 3)\n",
    "    conv6 = Conv2D(512, 3, activation='relu', padding='same',kernel_initializer='he_normal')(merge6)\n",
    "    conv6 = Conv2D(512, 3, activation='relu', padding='same',kernel_initializer='he_normal')(conv6)\n",
    "    up7 = Conv2DTranspose(256, 2, activation='relu', strides=(2,2), kernel_initializer='he_normal')(conv6)\n",
    "    merge7 = concatenate([conv3,up7], axis = 3)\n",
    "    conv7 = Conv2D(256, 3, activation='relu', padding='same',kernel_initializer='he_normal')(merge7)\n",
    "    conv7 = Conv2D(256, 3, activation='relu', padding='same',kernel_initializer='he_normal')(conv7)\n",
    "    up8 = Conv2DTranspose(128, 2, activation='relu', strides=(2,2), kernel_initializer='he_normal')(conv7)\n",
    "    merge8 = concatenate([conv2,up8], axis = 3)\n",
    "    conv8 = Conv2D(128, 3, activation='relu', padding='same',kernel_initializer='he_normal')(merge8)\n",
    "    conv8 = Conv2D(128, 3, activation='relu', padding='same',kernel_initializer='he_normal')(conv8)\n",
    "    up9 = Conv2DTranspose(64, 2, activation='relu', strides=(2,2), kernel_initializer='he_normal')(conv8)\n",
    "    merge9 = concatenate([conv1,up9], axis = 3)\n",
    "    conv9 = Conv2D(64, 3, activation='relu', padding='same',kernel_initializer='he_normal')(merge9)\n",
    "    conv9 = Conv2D(64, 3, activation='relu', padding='same',kernel_initializer='he_normal')(conv9)  \n",
    "    conv9 = Conv2D(2, 3, activation='relu', padding='same',kernel_initializer='he_normal')(conv9)     \n",
    "    conv10 = Conv2D(1, 1, activation='sigmoid')(conv9)\n",
    "\n",
    "    model = Model(inputs = inputs, outputs = conv10)\n",
    "    return model"
   ]
  },
  {
   "cell_type": "code",
   "execution_count": null,
   "metadata": {
    "id": "3Lyp4p-_BbOZ"
   },
   "outputs": [],
   "source": [
    "unet_model_path = '/content/drive/MyDrive/Cloud_data/cloud_model/seg_unet_model.h5'\n",
    "\n",
    "unet_model = build_unet_model()\n",
    "unet_model.compile(optimizer = Adam(lr = 1e-4), loss = 'binary_crossentropy')\n",
    "unet_model.fit_generator(\n",
    "     generator=train_generator,\n",
    "     validation_data=test_generator,\n",
    "     steps_per_epoch=len(train_generator),\n",
    "     epochs=100,\n",
    " )\n",
    "\n",
    "unet_model.save(unet_model_path)  #학습한 모델을 저장해 주세요."
   ]
  },
  {
   "cell_type": "code",
   "execution_count": 12,
   "metadata": {
    "ExecuteTime": {
     "end_time": "2022-02-23T07:12:25.379420Z",
     "start_time": "2022-02-23T07:12:25.377111Z"
    }
   },
   "outputs": [],
   "source": [
    "4"
   ]
  },
  {
   "cell_type": "code",
   "execution_count": null,
   "metadata": {},
   "outputs": [],
   "source": []
  }
 ],
 "metadata": {
  "colab": {
   "collapsed_sections": [
    "JUEX1yT6ObHp",
    "E2LOYbAPOkwt",
    "5o4C6ccOBMRZ"
   ],
   "name": "Untitled0.ipynb",
   "provenance": []
  },
  "kernelspec": {
   "display_name": "Python 3",
   "language": "python",
   "name": "python3"
  },
  "language_info": {
   "codemirror_mode": {
    "name": "ipython",
    "version": 3
   },
   "file_extension": ".py",
   "mimetype": "text/x-python",
   "name": "python",
   "nbconvert_exporter": "python",
   "pygments_lexer": "ipython3",
   "version": "3.8.5"
  },
  "toc": {
   "base_numbering": 1,
   "nav_menu": {},
   "number_sections": true,
   "sideBar": true,
   "skip_h1_title": false,
   "title_cell": "Table of Contents",
   "title_sidebar": "Contents",
   "toc_cell": false,
   "toc_position": {},
   "toc_section_display": true,
   "toc_window_display": true
  },
  "varInspector": {
   "cols": {
    "lenName": 16,
    "lenType": 16,
    "lenVar": 40
   },
   "kernels_config": {
    "python": {
     "delete_cmd_postfix": "",
     "delete_cmd_prefix": "del ",
     "library": "var_list.py",
     "varRefreshCmd": "print(var_dic_list())"
    },
    "r": {
     "delete_cmd_postfix": ") ",
     "delete_cmd_prefix": "rm(",
     "library": "var_list.r",
     "varRefreshCmd": "cat(var_dic_list()) "
    }
   },
   "position": {
    "height": "450.852px",
    "left": "620px",
    "right": "20px",
    "top": "147px",
    "width": "738px"
   },
   "types_to_exclude": [
    "module",
    "function",
    "builtin_function_or_method",
    "instance",
    "_Feature"
   ],
   "window_display": true
  }
 },
 "nbformat": 4,
 "nbformat_minor": 1
}
