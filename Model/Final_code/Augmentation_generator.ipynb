{
 "cells": [
  {
   "cell_type": "markdown",
   "id": "54ab2ef9",
   "metadata": {
    "id": "JUEX1yT6ObHp"
   },
   "source": [
    "# Import Library"
   ]
  },
  {
   "cell_type": "code",
   "execution_count": 1,
   "id": "6ad9fa3c",
   "metadata": {
    "ExecuteTime": {
     "end_time": "2022-03-05T19:59:31.183126Z",
     "start_time": "2022-03-05T19:59:25.686471Z"
    },
    "id": "ROaksixkOV2l"
   },
   "outputs": [],
   "source": [
    "import numpy as np\n",
    "import math\n",
    "import natsort\n",
    "import cv2\n",
    "import os\n",
    "import matplotlib.pyplot as plt\n",
    "from glob import glob\n",
    "\n",
    "from PIL import Image\n",
    "\n",
    "import tensorflow as tf\n",
    "from tensorflow import keras\n",
    "\n",
    "from tensorflow.keras.utils import *\n",
    "from tensorflow.keras.models import *\n",
    "from tensorflow.keras.layers import *\n",
    "from tensorflow.keras.optimizers import *\n",
    "from albumentations import  HorizontalFlip, RandomSizedCrop, Compose, OneOf, Resize"
   ]
  },
  {
   "cell_type": "markdown",
   "id": "3a76bb7e",
   "metadata": {
    "id": "E2LOYbAPOkwt"
   },
   "source": [
    "# Data Loder"
   ]
  },
  {
   "cell_type": "code",
   "execution_count": 2,
   "id": "72af3f85",
   "metadata": {
    "ExecuteTime": {
     "end_time": "2022-03-05T19:59:31.194457Z",
     "start_time": "2022-03-05T19:59:31.191775Z"
    },
    "id": "0IXRaHPoPOa-"
   },
   "outputs": [],
   "source": [
    "def sortlist(filelist):\n",
    "    filelist = natsort.natsorted(filelist)\n",
    "    return filelist"
   ]
  },
  {
   "cell_type": "code",
   "execution_count": 3,
   "id": "db86ba08",
   "metadata": {
    "ExecuteTime": {
     "end_time": "2022-03-05T19:59:31.205345Z",
     "start_time": "2022-03-05T19:59:31.202795Z"
    },
    "id": "4SZpwghSOfP7"
   },
   "outputs": [],
   "source": [
    "dir_path = os.getenv(\"HOME\")+ '/Cloud_data/cloud_train/'"
   ]
  },
  {
   "cell_type": "code",
   "execution_count": 4,
   "id": "f2b042ba",
   "metadata": {
    "ExecuteTime": {
     "end_time": "2022-03-05T19:59:31.217680Z",
     "start_time": "2022-03-05T19:59:31.213320Z"
    }
   },
   "outputs": [],
   "source": [
    "from albumentations import  HorizontalFlip, RandomSizedCrop, Compose,VerticalFlip,ShiftScaleRotate,RandomBrightnessContrast\n",
    "\n",
    "def build_augmentation(is_train=True):\n",
    "  if is_train:    # 훈련용 데이터일 경우\n",
    "    return Compose([\n",
    "                    HorizontalFlip(p=0.5),    # 50%의 확률로 좌우대칭\n",
    "                    VerticalFlip(p=0.5),      # 50%의 확률로 상하대칭\n",
    "                    ])\n",
    "  else:\n",
    "    return Compose([ ])\n",
    "\n",
    "augmentation = build_augmentation()\n",
    "not_augmentation = build_augmentation(is_train = False)"
   ]
  },
  {
   "cell_type": "code",
   "execution_count": 5,
   "id": "d8a86033",
   "metadata": {
    "ExecuteTime": {
     "end_time": "2022-03-05T19:59:31.236146Z",
     "start_time": "2022-03-05T19:59:31.226173Z"
    },
    "id": "dfIKSPWLPt9O"
   },
   "outputs": [],
   "source": [
    "class CloudGenerator(Sequence):\n",
    "    def __init__(self,\n",
    "                 dir_path,\n",
    "                 batch_size = 4,\n",
    "                 img_size = (800,800,3),\n",
    "                 output_size = (800,800,4), # WxHxC ( C == num_class )\n",
    "                 is_train = True,\n",
    "                 augmentation=None):\n",
    "        \n",
    "        self.dir_path = dir_path\n",
    "        self.batch_size = batch_size\n",
    "        self.img_size = img_size\n",
    "        self.output_size = output_size\n",
    "        self.is_train = is_train\n",
    "        self.augmentation = augmentation\n",
    "        \n",
    "        self.data = self.load_dataset()\n",
    "    \n",
    "    def load_dataset(self):\n",
    "        input_images = glob(os.path.join(self.dir_path,\"patch_img800\",\"*png\"))\n",
    "        label_images = glob(os.path.join(self.dir_path,\"patch_labeling800\",\"*png\"))\n",
    "\n",
    "        input_images = sortlist(input_images)\n",
    "        label_images = sortlist(label_images)\n",
    "        \n",
    "        assert len(input_images) == len(label_images)\n",
    "        data = [ _ for _ in zip(input_images, label_images)]\n",
    "        \n",
    "        train_percent = int(len(data) * 0.8)\n",
    "\n",
    "        if self.is_train:\n",
    "            return data[:train_percent]\n",
    "        return data[train_percent:]\n",
    "\n",
    "    def __getitem__(self, index):\n",
    "        batch_data = self.data[\n",
    "                           index*self.batch_size:\n",
    "                           (index + 1)*self.batch_size\n",
    "                           ]\n",
    "        inputs = np.zeros([self.batch_size, *self.img_size])\n",
    "        outputs = np.zeros([self.batch_size, *self.output_size])\n",
    "        outputs_mini = np.zeros([*self.output_size])\n",
    "        for i, data in enumerate(batch_data):\n",
    "            input_img_path, output_path = data\n",
    "            _input = cv2.imread(input_img_path)\n",
    "            _output = cv2.imread(output_path,0)\n",
    "            \n",
    "            _output1 = (_output == 50).astype(np.uint8)*1\n",
    "            _output2 = (_output == 30).astype(np.uint8)*1\n",
    "            _output3 = (_output == 10).astype(np.uint8)*1\n",
    "            _output4 = (_output == 0).astype(np.uint8)*1\n",
    "            \n",
    "            outputs_mini[:,:,0] = _output1  # Thick Cloud  : 1\n",
    "            outputs_mini[:,:,1] = _output2  # Thin Cloud   : 2\n",
    "            outputs_mini[:,:,2] = _output3  # Cloud shadow : 3\n",
    "            outputs_mini[:,:,3] = _output4  # Ground : 0\n",
    "            \n",
    "#             augmented = self.augmentation(image=_input)\n",
    "                \n",
    "            data = {\n",
    "                      \"image\": _input,\n",
    "                      \"mask\": outputs_mini,\n",
    "                   }\n",
    "            \n",
    "            augmented = self.augmentation(**data)\n",
    "            \n",
    "            inputs[i] = augmented[\"image\"]/255\n",
    "            outputs[i] = augmented[\"mask\"]\n",
    "     \n",
    "            return inputs, outputs\n",
    "\n",
    "    def __len__(self):\n",
    "        return math.ceil(len(self.data) / self.batch_size)\n",
    "    \n",
    "    def on_epoch_end(self):\n",
    "        self.indexes = np.arange(len(self.data))\n",
    "        if self.is_train == True :\n",
    "            np.random.shuffle(self.indexes)\n",
    "            return self.indexes"
   ]
  },
  {
   "cell_type": "code",
   "execution_count": 6,
   "id": "2996f35a",
   "metadata": {
    "ExecuteTime": {
     "end_time": "2022-03-05T19:59:31.935795Z",
     "start_time": "2022-03-05T19:59:31.244561Z"
    },
    "id": "kVaZ_wfrTjqT"
   },
   "outputs": [],
   "source": [
    "train_generator = CloudGenerator(\n",
    "    dir_path,\n",
    "    is_train=True,\n",
    "    augmentation = augmentation\n",
    ")\n",
    "\n",
    "test_generator = CloudGenerator(\n",
    "    dir_path,\n",
    "    is_train=False,\n",
    "    augmentation = not_augmentation\n",
    ")"
   ]
  },
  {
   "cell_type": "code",
   "execution_count": 7,
   "id": "43fb6c2d",
   "metadata": {
    "ExecuteTime": {
     "end_time": "2022-03-05T19:59:31.945373Z",
     "start_time": "2022-03-05T19:59:31.943176Z"
    }
   },
   "outputs": [],
   "source": [
    "# np.set_printoptions(threshold=1000)"
   ]
  },
  {
   "cell_type": "code",
   "execution_count": 8,
   "id": "151129f1",
   "metadata": {
    "ExecuteTime": {
     "end_time": "2022-03-05T19:59:31.955838Z",
     "start_time": "2022-03-05T19:59:31.953571Z"
    },
    "scrolled": true
   },
   "outputs": [],
   "source": [
    "# train_generator.__getitem__(3)"
   ]
  },
  {
   "cell_type": "markdown",
   "id": "c4455b0e",
   "metadata": {
    "id": "KM2aLzxV-zL2"
   },
   "source": [
    "# Build Atrous U-Net Model"
   ]
  },
  {
   "cell_type": "code",
   "execution_count": 9,
   "id": "c9fb6939",
   "metadata": {
    "ExecuteTime": {
     "end_time": "2022-03-05T19:59:31.973673Z",
     "start_time": "2022-03-05T19:59:31.965162Z"
    },
    "id": "fZnxJOOyYn9t",
    "scrolled": true
   },
   "outputs": [],
   "source": [
    "def atrous_unet_encoder(x, channel = 64, kernel_size = (3,3), strides=1,activation='relu'):\n",
    "    skip_connection = []\n",
    "    for i in range(4):\n",
    "        x = Conv2D(channel* 2**i, kernel_size, activation=activation, padding='same',kernel_initializer='he_normal')(x)\n",
    "        x = Conv2D(channel* 2**i, kernel_size, activation=activation, padding='same',kernel_initializer='he_normal')(x)\n",
    "        skip_connection.append(x)\n",
    "        x = MaxPooling2D(pool_size=(2, 2))(x)\n",
    "    return x, skip_connection\n",
    "\n",
    "def atrous_unet_bottleneck(x,kernel_size = (3,3),activation='relu'):\n",
    "    for i in range(6):\n",
    "        x = Conv2D(1024, kernel_size, activation=activation, padding='same',dilation_rate=(2**i, 2**i),kernel_initializer='he_normal')(x)\n",
    "    x = Dropout(0.5)(x)\n",
    "    return x\n",
    "\n",
    "def atrous_unet_decoder(x,skip_connection,channel = 64, kernel_size = (3,3),activation = 'relu'):\n",
    "    for i in reversed(range(4)):\n",
    "        x = Conv2DTranspose(channel* 2**i, 2, strides = (2,2), activation=activation,kernel_initializer='he_normal')(x)\n",
    "        x = concatenate([skip_connection[i],x],axis =3)\n",
    "        x = Conv2D(channel* 2**i, kernel_size, activation=activation, padding='same',kernel_initializer='he_normal')(x)\n",
    "        x = Conv2D(channel* 2**i, kernel_size, activation=activation, padding='same',kernel_initializer='he_normal')(x)\n",
    "    return x\n",
    "\n",
    "def atrous_unet_model(input_shape=(800,800,3)):\n",
    "    input = Input(input_shape)\n",
    "    encoder,skip = atrous_unet_encoder(input)\n",
    "    bottleneck = atrous_unet_bottleneck(encoder)\n",
    "    decoder = atrous_unet_decoder(bottleneck,skip)\n",
    "    output = Conv2D(4, 1, activation = 'softmax')(decoder)     # num_class = 4\n",
    "    Atrous_unet_model = Model(inputs = input,outputs = output)\n",
    "\n",
    "    return Atrous_unet_model"
   ]
  },
  {
   "cell_type": "code",
   "execution_count": 10,
   "id": "61cd0547",
   "metadata": {
    "ExecuteTime": {
     "end_time": "2022-03-05T19:59:36.024416Z",
     "start_time": "2022-03-05T19:59:31.982567Z"
    }
   },
   "outputs": [
    {
     "name": "stdout",
     "output_type": "stream",
     "text": [
      "Model: \"model\"\n",
      "__________________________________________________________________________________________________\n",
      "Layer (type)                    Output Shape         Param #     Connected to                     \n",
      "==================================================================================================\n",
      "input_1 (InputLayer)            [(None, 800, 800, 3) 0                                            \n",
      "__________________________________________________________________________________________________\n",
      "conv2d (Conv2D)                 (None, 800, 800, 64) 1792        input_1[0][0]                    \n",
      "__________________________________________________________________________________________________\n",
      "conv2d_1 (Conv2D)               (None, 800, 800, 64) 36928       conv2d[0][0]                     \n",
      "__________________________________________________________________________________________________\n",
      "max_pooling2d (MaxPooling2D)    (None, 400, 400, 64) 0           conv2d_1[0][0]                   \n",
      "__________________________________________________________________________________________________\n",
      "conv2d_2 (Conv2D)               (None, 400, 400, 128 73856       max_pooling2d[0][0]              \n",
      "__________________________________________________________________________________________________\n",
      "conv2d_3 (Conv2D)               (None, 400, 400, 128 147584      conv2d_2[0][0]                   \n",
      "__________________________________________________________________________________________________\n",
      "max_pooling2d_1 (MaxPooling2D)  (None, 200, 200, 128 0           conv2d_3[0][0]                   \n",
      "__________________________________________________________________________________________________\n",
      "conv2d_4 (Conv2D)               (None, 200, 200, 256 295168      max_pooling2d_1[0][0]            \n",
      "__________________________________________________________________________________________________\n",
      "conv2d_5 (Conv2D)               (None, 200, 200, 256 590080      conv2d_4[0][0]                   \n",
      "__________________________________________________________________________________________________\n",
      "max_pooling2d_2 (MaxPooling2D)  (None, 100, 100, 256 0           conv2d_5[0][0]                   \n",
      "__________________________________________________________________________________________________\n",
      "conv2d_6 (Conv2D)               (None, 100, 100, 512 1180160     max_pooling2d_2[0][0]            \n",
      "__________________________________________________________________________________________________\n",
      "conv2d_7 (Conv2D)               (None, 100, 100, 512 2359808     conv2d_6[0][0]                   \n",
      "__________________________________________________________________________________________________\n",
      "max_pooling2d_3 (MaxPooling2D)  (None, 50, 50, 512)  0           conv2d_7[0][0]                   \n",
      "__________________________________________________________________________________________________\n",
      "conv2d_8 (Conv2D)               (None, 50, 50, 1024) 4719616     max_pooling2d_3[0][0]            \n",
      "__________________________________________________________________________________________________\n",
      "conv2d_9 (Conv2D)               (None, 50, 50, 1024) 9438208     conv2d_8[0][0]                   \n",
      "__________________________________________________________________________________________________\n",
      "conv2d_10 (Conv2D)              (None, 50, 50, 1024) 9438208     conv2d_9[0][0]                   \n",
      "__________________________________________________________________________________________________\n",
      "conv2d_11 (Conv2D)              (None, 50, 50, 1024) 9438208     conv2d_10[0][0]                  \n",
      "__________________________________________________________________________________________________\n",
      "conv2d_12 (Conv2D)              (None, 50, 50, 1024) 9438208     conv2d_11[0][0]                  \n",
      "__________________________________________________________________________________________________\n",
      "conv2d_13 (Conv2D)              (None, 50, 50, 1024) 9438208     conv2d_12[0][0]                  \n",
      "__________________________________________________________________________________________________\n",
      "dropout (Dropout)               (None, 50, 50, 1024) 0           conv2d_13[0][0]                  \n",
      "__________________________________________________________________________________________________\n",
      "conv2d_transpose (Conv2DTranspo (None, 100, 100, 512 2097664     dropout[0][0]                    \n",
      "__________________________________________________________________________________________________\n",
      "concatenate (Concatenate)       (None, 100, 100, 102 0           conv2d_7[0][0]                   \n",
      "                                                                 conv2d_transpose[0][0]           \n",
      "__________________________________________________________________________________________________\n",
      "conv2d_14 (Conv2D)              (None, 100, 100, 512 4719104     concatenate[0][0]                \n",
      "__________________________________________________________________________________________________\n",
      "conv2d_15 (Conv2D)              (None, 100, 100, 512 2359808     conv2d_14[0][0]                  \n",
      "__________________________________________________________________________________________________\n",
      "conv2d_transpose_1 (Conv2DTrans (None, 200, 200, 256 524544      conv2d_15[0][0]                  \n",
      "__________________________________________________________________________________________________\n",
      "concatenate_1 (Concatenate)     (None, 200, 200, 512 0           conv2d_5[0][0]                   \n",
      "                                                                 conv2d_transpose_1[0][0]         \n",
      "__________________________________________________________________________________________________\n",
      "conv2d_16 (Conv2D)              (None, 200, 200, 256 1179904     concatenate_1[0][0]              \n",
      "__________________________________________________________________________________________________\n",
      "conv2d_17 (Conv2D)              (None, 200, 200, 256 590080      conv2d_16[0][0]                  \n",
      "__________________________________________________________________________________________________\n",
      "conv2d_transpose_2 (Conv2DTrans (None, 400, 400, 128 131200      conv2d_17[0][0]                  \n",
      "__________________________________________________________________________________________________\n",
      "concatenate_2 (Concatenate)     (None, 400, 400, 256 0           conv2d_3[0][0]                   \n",
      "                                                                 conv2d_transpose_2[0][0]         \n",
      "__________________________________________________________________________________________________\n",
      "conv2d_18 (Conv2D)              (None, 400, 400, 128 295040      concatenate_2[0][0]              \n",
      "__________________________________________________________________________________________________\n",
      "conv2d_19 (Conv2D)              (None, 400, 400, 128 147584      conv2d_18[0][0]                  \n",
      "__________________________________________________________________________________________________\n",
      "conv2d_transpose_3 (Conv2DTrans (None, 800, 800, 64) 32832       conv2d_19[0][0]                  \n",
      "__________________________________________________________________________________________________\n",
      "concatenate_3 (Concatenate)     (None, 800, 800, 128 0           conv2d_1[0][0]                   \n",
      "                                                                 conv2d_transpose_3[0][0]         \n",
      "__________________________________________________________________________________________________\n",
      "conv2d_20 (Conv2D)              (None, 800, 800, 64) 73792       concatenate_3[0][0]              \n",
      "__________________________________________________________________________________________________\n",
      "conv2d_21 (Conv2D)              (None, 800, 800, 64) 36928       conv2d_20[0][0]                  \n",
      "__________________________________________________________________________________________________\n",
      "conv2d_22 (Conv2D)              (None, 800, 800, 4)  260         conv2d_21[0][0]                  \n",
      "==================================================================================================\n",
      "Total params: 68,784,772\n",
      "Trainable params: 68,784,772\n",
      "Non-trainable params: 0\n",
      "__________________________________________________________________________________________________\n"
     ]
    }
   ],
   "source": [
    "Atrous_unet_model = atrous_unet_model()\n",
    "Atrous_unet_model.summary()"
   ]
  },
  {
   "cell_type": "code",
   "execution_count": 11,
   "id": "b7b6168d",
   "metadata": {
    "ExecuteTime": {
     "end_time": "2022-03-06T03:25:10.387298Z",
     "start_time": "2022-03-05T19:59:36.032675Z"
    },
    "scrolled": true
   },
   "outputs": [
    {
     "name": "stderr",
     "output_type": "stream",
     "text": [
      "/home/mjy0992/ENTER/lib/python3.8/site-packages/tensorflow/python/keras/engine/training.py:1844: UserWarning: `Model.fit_generator` is deprecated and will be removed in a future version. Please use `Model.fit`, which supports generators.\n",
      "  warnings.warn('`Model.fit_generator` is deprecated and '\n"
     ]
    },
    {
     "name": "stdout",
     "output_type": "stream",
     "text": [
      "Epoch 1/20\n",
      "1551/1551 [==============================] - 1372s 862ms/step - loss: 0.1391 - accuracy: 0.1963 - val_loss: 0.0601 - val_accuracy: 0.2091\n",
      "Epoch 2/20\n",
      "1551/1551 [==============================] - 1336s 861ms/step - loss: 0.0669 - accuracy: 0.2000 - val_loss: 0.0578 - val_accuracy: 0.2057\n",
      "Epoch 3/20\n",
      "1551/1551 [==============================] - 1337s 862ms/step - loss: 0.0620 - accuracy: 0.2023 - val_loss: 0.0564 - val_accuracy: 0.2081\n",
      "Epoch 4/20\n",
      "1551/1551 [==============================] - 1337s 862ms/step - loss: 0.0614 - accuracy: 0.2032 - val_loss: 0.0540 - val_accuracy: 0.2114\n",
      "Epoch 5/20\n",
      "1551/1551 [==============================] - 1336s 862ms/step - loss: 0.0608 - accuracy: 0.2016 - val_loss: 0.0475 - val_accuracy: 0.2121\n",
      "Epoch 6/20\n",
      "1551/1551 [==============================] - 1336s 861ms/step - loss: 0.0568 - accuracy: 0.2032 - val_loss: 0.0498 - val_accuracy: 0.2122\n",
      "Epoch 7/20\n",
      "1551/1551 [==============================] - 1335s 861ms/step - loss: 0.0549 - accuracy: 0.2051 - val_loss: 0.0486 - val_accuracy: 0.2124\n",
      "Epoch 8/20\n",
      "1551/1551 [==============================] - 1335s 861ms/step - loss: 0.0536 - accuracy: 0.2083 - val_loss: 0.0483 - val_accuracy: 0.2150\n",
      "Epoch 9/20\n",
      "1551/1551 [==============================] - 1334s 860ms/step - loss: 0.0542 - accuracy: 0.2062 - val_loss: 0.0492 - val_accuracy: 0.2148\n",
      "Epoch 10/20\n",
      "1551/1551 [==============================] - 1334s 860ms/step - loss: 0.0500 - accuracy: 0.2095 - val_loss: 0.0518 - val_accuracy: 0.2088\n",
      "Epoch 11/20\n",
      "1551/1551 [==============================] - 1334s 860ms/step - loss: 0.0484 - accuracy: 0.2103 - val_loss: 0.0549 - val_accuracy: 0.2117\n",
      "Epoch 12/20\n",
      "1551/1551 [==============================] - 1334s 860ms/step - loss: 0.0452 - accuracy: 0.2134 - val_loss: 0.0435 - val_accuracy: 0.2159\n",
      "Epoch 13/20\n",
      "1551/1551 [==============================] - 1334s 860ms/step - loss: 0.0450 - accuracy: 0.2134 - val_loss: 0.0422 - val_accuracy: 0.2154\n",
      "Epoch 14/20\n",
      "1551/1551 [==============================] - 1334s 860ms/step - loss: 0.0449 - accuracy: 0.2133 - val_loss: 0.0494 - val_accuracy: 0.2088\n",
      "Epoch 15/20\n",
      "1551/1551 [==============================] - 1334s 860ms/step - loss: 0.0432 - accuracy: 0.2142 - val_loss: 0.0479 - val_accuracy: 0.2162\n",
      "Epoch 16/20\n",
      "1551/1551 [==============================] - 1335s 860ms/step - loss: 0.0410 - accuracy: 0.2169 - val_loss: 0.0431 - val_accuracy: 0.2181\n",
      "Epoch 17/20\n",
      "1551/1551 [==============================] - 1334s 860ms/step - loss: 0.0427 - accuracy: 0.2152 - val_loss: 0.0431 - val_accuracy: 0.2170\n",
      "Epoch 18/20\n",
      "1551/1551 [==============================] - 1334s 860ms/step - loss: 0.0419 - accuracy: 0.2159 - val_loss: 0.0433 - val_accuracy: 0.2180\n",
      "Epoch 19/20\n",
      "1551/1551 [==============================] - 1334s 860ms/step - loss: 0.0390 - accuracy: 0.2189 - val_loss: 0.0462 - val_accuracy: 0.2153\n",
      "Epoch 20/20\n",
      "1551/1551 [==============================] - 1334s 860ms/step - loss: 0.0413 - accuracy: 0.2172 - val_loss: 0.0411 - val_accuracy: 0.2176\n"
     ]
    }
   ],
   "source": [
    "Atrous_unet_model = atrous_unet_model()\n",
    "Atrous_unet_model.compile(optimizer = Adam(lr = 1e-4), loss = 'binary_crossentropy',metrics = ['accuracy'])\n",
    "\n",
    "with tf.device(\"/device:GPU:0\"):\n",
    "    hist = Atrous_unet_model.fit_generator(\n",
    "         generator=train_generator,\n",
    "         validation_data=test_generator,\n",
    "         steps_per_epoch=len(train_generator),\n",
    "         epochs=20,\n",
    "     )"
   ]
  },
  {
   "cell_type": "code",
   "execution_count": 12,
   "id": "9c801f15",
   "metadata": {
    "ExecuteTime": {
     "end_time": "2022-03-06T03:25:10.403969Z",
     "start_time": "2022-03-06T03:25:10.396041Z"
    }
   },
   "outputs": [],
   "source": [
    "import pandas as pd\n",
    "\n",
    "hist_df = pd.DataFrame(hist.history) \n",
    "\n",
    "hist_csv_file = 'class4_epoch20_history.csv'\n",
    "with open(hist_csv_file, mode='w') as f:\n",
    "    hist_df.to_csv(f)"
   ]
  },
  {
   "cell_type": "code",
   "execution_count": 13,
   "id": "0179ff7e",
   "metadata": {
    "ExecuteTime": {
     "end_time": "2022-03-06T03:25:10.656786Z",
     "start_time": "2022-03-06T03:25:10.425995Z"
    }
   },
   "outputs": [
    {
     "data": {
      "image/png": "[encoded data removed]",
      "text/plain": [
       "<Figure size 432x288 with 2 Axes>"
      ]
     },
     "metadata": {
      "needs_background": "light"
     },
     "output_type": "display_data"
    }
   ],
   "source": [
    "fig, loss_ax = plt.subplots()\n",
    "acc_ax = loss_ax.twinx()\n",
    "\n",
    "loss_ax.plot(hist.history['loss'], 'y', label='train loss')\n",
    "loss_ax.plot(hist.history['val_loss'], 'r', label='val loss')\n",
    "loss_ax.set_xlabel('epoch')\n",
    "loss_ax.set_ylabel('loss')\n",
    "loss_ax.legend(loc='upper left')\n",
    "\n",
    "acc_ax.plot(hist.history['accuracy'], 'b', label='train acc')\n",
    "acc_ax.plot(hist.history['val_accuracy'], 'g', label='val acc')\n",
    "acc_ax.set_ylabel('accuracy')\n",
    "acc_ax.legend(loc='upper right')\n",
    "\n",
    "plt.show()"
   ]
  },
  {
   "cell_type": "code",
   "execution_count": 14,
   "id": "f74caf96",
   "metadata": {
    "ExecuteTime": {
     "end_time": "2022-03-06T03:25:12.066902Z",
     "start_time": "2022-03-06T03:25:10.668420Z"
    }
   },
   "outputs": [],
   "source": [
    "Atrous_unet_model_path = os.getenv(\"HOME\")+'/Cloud_data/cloud_model/seg_atrous_unet_model_sliding800_aug_class4_epoch20_hist.h5'    \n",
    "Atrous_unet_model.save(Atrous_unet_model_path)  #학습한 모델을 저장해 주세요."
   ]
  },
  {
   "cell_type": "markdown",
   "id": "61f2ca15",
   "metadata": {},
   "source": [
    "---\n",
    "Load model"
   ]
  },
  {
   "cell_type": "code",
   "execution_count": 10,
   "id": "c96ef78f",
   "metadata": {
    "ExecuteTime": {
     "end_time": "2022-02-25T11:48:03.666906Z",
     "start_time": "2022-02-25T11:48:03.664074Z"
    }
   },
   "outputs": [],
   "source": [
    "# callbacks = [keras.callbacks.EarlyStopping(monitor='val_loss',\n",
    "#                                            patience=5)]"
   ]
  },
  {
   "cell_type": "code",
   "execution_count": 11,
   "id": "33a1b8e3",
   "metadata": {
    "ExecuteTime": {
     "end_time": "2022-02-25T14:02:42.782536Z",
     "start_time": "2022-02-25T11:48:31.671899Z"
    }
   },
   "outputs": [
    {
     "name": "stderr",
     "output_type": "stream",
     "text": [
      "/home/mjy0992/ENTER/lib/python3.8/site-packages/tensorflow/python/keras/engine/training.py:1844: UserWarning: `Model.fit_generator` is deprecated and will be removed in a future version. Please use `Model.fit`, which supports generators.\n",
      "  warnings.warn('`Model.fit_generator` is deprecated and '\n"
     ]
    },
    {
     "name": "stdout",
     "output_type": "stream",
     "text": [
      "Epoch 1/40\n",
      "1551/1551 [==============================] - 1370s 861ms/step - loss: 0.0343 - val_loss: 0.0422\n",
      "Epoch 2/40\n",
      "1551/1551 [==============================] - 1334s 860ms/step - loss: 0.0314 - val_loss: 0.0511\n",
      "Epoch 3/40\n",
      "1551/1551 [==============================] - 1336s 861ms/step - loss: 0.0336 - val_loss: 0.0471\n",
      "Epoch 4/40\n",
      "1551/1551 [==============================] - 1336s 862ms/step - loss: 0.0300 - val_loss: 0.0445\n",
      "Epoch 5/40\n",
      "1551/1551 [==============================] - 1337s 862ms/step - loss: 0.0279 - val_loss: 0.0669\n",
      "Epoch 6/40\n",
      "1551/1551 [==============================] - 1336s 861ms/step - loss: 0.0300 - val_loss: 0.0587\n"
     ]
    }
   ],
   "source": [
    "# newmodel = load_model(os.getenv(\"HOME\")+'/Cloud_data/cloud_model/seg_atrous_unet_model_sliding800_class4_epoch20_final.h5')\n",
    "# newmodel.compile(optimizer = Adam(lr = 1e-4), loss = 'binary_crossentropy')\n",
    "\n",
    "# with tf.device(\"/device:GPU:0\"):\n",
    "#     newmodel.fit_generator(\n",
    "#          generator=train_generator,\n",
    "#          validation_data=test_generator,\n",
    "#          steps_per_epoch=len(train_generator),\n",
    "#          epochs=40,callbacks=callbacks\n",
    "#      )"
   ]
  },
  {
   "cell_type": "code",
   "execution_count": 12,
   "id": "f2716716",
   "metadata": {
    "ExecuteTime": {
     "end_time": "2022-02-25T14:02:44.179749Z",
     "start_time": "2022-02-25T14:02:42.791577Z"
    }
   },
   "outputs": [],
   "source": [
    "# newmodel_savepath = os.getenv(\"HOME\")+'/Cloud_data/cloud_model/seg_atrous_unet_model_sliding800_class4_epoch60.h5'\n",
    "# newmodel.save(newmodel_savepath)  #학습한 모델을 저장해 주세요."
   ]
  }
 ],
 "metadata": {
  "kernelspec": {
   "display_name": "Python 3",
   "language": "python",
   "name": "python3"
  },
  "language_info": {
   "codemirror_mode": {
    "name": "ipython",
    "version": 3
   },
   "file_extension": ".py",
   "mimetype": "text/x-python",
   "name": "python",
   "nbconvert_exporter": "python",
   "pygments_lexer": "ipython3",
   "version": "3.8.8"
  },
  "toc": {
   "base_numbering": 1,
   "nav_menu": {},
   "number_sections": true,
   "sideBar": true,
   "skip_h1_title": false,
   "title_cell": "Table of Contents",
   "title_sidebar": "Contents",
   "toc_cell": false,
   "toc_position": {},
   "toc_section_display": true,
   "toc_window_display": false
  },
  "varInspector": {
   "cols": {
    "lenName": 16,
    "lenType": 16,
    "lenVar": 40
   },
   "kernels_config": {
    "python": {
     "delete_cmd_postfix": "",
     "delete_cmd_prefix": "del ",
     "library": "var_list.py",
     "varRefreshCmd": "print(var_dic_list())"
    },
    "r": {
     "delete_cmd_postfix": ") ",
     "delete_cmd_prefix": "rm(",
     "library": "var_list.r",
     "varRefreshCmd": "cat(var_dic_list()) "
    }
   },
   "types_to_exclude": [
    "module",
    "function",
    "builtin_function_or_method",
    "instance",
    "_Feature"
   ],
   "window_display": false
  }
 },
 "nbformat": 4,
 "nbformat_minor": 5
}
