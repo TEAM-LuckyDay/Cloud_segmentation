{
  "nbformat": 4,
  "nbformat_minor": 0,
  "metadata": {
    "colab": {
      "name": "Untitled",
      "provenance": [],
      "collapsed_sections": [
        "SGDMQJywtVW5",
        "g3LlOZCid0hm"
      ]
    },
    "kernelspec": {
      "name": "python3",
      "display_name": "Python 3"
    },
    "language_info": {
      "name": "python"
    },
    "accelerator": "GPU"
  },
  "cells": [
    {
      "cell_type": "markdown",
      "source": [
        "# Import library"
      ],
      "metadata": {
        "id": "SGDMQJywtVW5"
      }
    },
    {
      "cell_type": "code",
      "source": [
        "import numpy as np\n",
        "import cv2\n",
        "import os\n",
        "import matplotlib.pyplot as plt\n",
        "from google.colab import drive\n",
        "from glob import glob\n",
        "\n",
        "import tensorflow as tf\n",
        "from tensorflow import keras\n",
        "\n",
        "import tensorflow_datasets as tfds\n",
        "\n",
        "from tensorflow.keras.models import *\n",
        "from tensorflow.keras.layers import *\n",
        "from tensorflow.keras.optimizers import *"
      ],
      "metadata": {
        "id": "loUsWAtqtbzD"
      },
      "execution_count": 41,
      "outputs": []
    },
    {
      "cell_type": "code",
      "source": [
        "drive.mount('/content/drive')"
      ],
      "metadata": {
        "colab": {
          "base_uri": "https://localhost:8080/"
        },
        "id": "qs4feV6K6U6n",
        "outputId": "c44c991a-0b11-4102-a49f-e12784f286c0"
      },
      "execution_count": 42,
      "outputs": [
        {
          "output_type": "stream",
          "name": "stdout",
          "text": [
            "Drive already mounted at /content/drive; to attempt to forcibly remount, call drive.mount(\"/content/drive\", force_remount=True).\n"
          ]
        }
      ]
    },
    {
      "cell_type": "markdown",
      "source": [
        "# Image_processing"
      ],
      "metadata": {
        "id": "g3LlOZCid0hm"
      }
    },
    {
      "cell_type": "code",
      "source": [
        "class image_processing():\n",
        "    def __init__(self, path1, path2):\n",
        "        self.rgb_img_path = path1\n",
        "        self.patch_img_path = path2\n",
        "        self.crop_margin(self.rgb_img_path)\n",
        "\n",
        "    def crop_margin(self,path):\n",
        "        file_count = 0\n",
        "        for file_path in path:\n",
        "            file_count += 1\n",
        "            #print(file_count,\"번 째 사진 전처리중. . .\")\n",
        "            img = cv2.imread(file_path)\n",
        "            #print(\"여백 제거 전 : \", img.shape)\n",
        "            self.crop_rgb_img = img[:,25:-25,:]\n",
        "            #print(\"여백 제거 후 : \", self.crop_rgb_img.shape)\n",
        "            self.image_5000 = self.crop_rgb_img[:5000,:5000,:]\n",
        "            #print(\"5000 size로 crop : \" , self.image_5000.shape)\n",
        "            self. make_patch_img(self.image_5000, file_count)\n",
        "            #print(\"\")\n",
        "        print(file_count,\"장 전처리 완료.\")\n",
        "\n",
        "\n",
        "    def make_patch_img(self, img, file_count):\n",
        "        file_count2 = 0\n",
        "        for i in range(5):\n",
        "            for j in range(5):\n",
        "                file_count2 += 1\n",
        "                patch_img = img[ i*1000 : i*1000 + 1000,    j*1000 :  j*1000+1000  ,:]\n",
        "                save_path = self.patch_img_path + f'/img{file_count}_{file_count2}.png'\n",
        "                cv2.imwrite(save_path, patch_img)\n",
        "\n",
        "    def confirm_patch(self, path, img_num):\n",
        "        file_list = os.listdir(path)\n",
        "\n",
        "        plt.figure(figsize =(12,12))\n",
        "        for i in range(25):\n",
        "            img_path = path + '/' + file_list[(img_num-1)*25 + i]\n",
        "            img = cv2.imread(img_path)\n",
        "            plt.subplot(5,5,i+1)\n",
        "            plt.imshow(img)\n",
        "        plt.show()\n",
        "        \n"
      ],
      "metadata": {
        "id": "iOZkEQ9pd42i"
      },
      "execution_count": 43,
      "outputs": []
    },
    {
      "cell_type": "markdown",
      "source": [
        "---\n",
        "# Main Code"
      ],
      "metadata": {
        "id": "K4Rp_7EyY_yV"
      }
    },
    {
      "cell_type": "code",
      "source": [
        "train_dir_path = '/content/drive/MyDrive/Cloud_data/cloud_train/'\n",
        "validation_dir_path = '/content/drive/MyDrive/Cloud_data/cloud_validation/'\n",
        "\n",
        "train_file_path = os.path.join(train_dir_path,'train_clouds_data/png')\n",
        "train_save_path = os.path.join(train_dir_path,'patch_img')\n",
        "\n",
        "train_label_file_path = os.path.join(train_dir_path,'train_clouds_labeling')\n",
        "train_label_save_path = os.path.join(train_dir_path,'patch_label')\n",
        "\n",
        "validation_file_path = os.path.join(validation_dir_path,'validate_clouds_data/png')\n",
        "validation_save_path = os.path.join(validation_dir_path,'patch_img')\n",
        "\n",
        "validation_label_file_path = os.path.join(validation_dir_path,'validate_clouds_labeling')\n",
        "validation_label_save_path = os.path.join(validation_dir_path,'patch_label')"
      ],
      "metadata": {
        "id": "RjbvvVzZ5PWI"
      },
      "execution_count": 44,
      "outputs": []
    },
    {
      "cell_type": "code",
      "source": [
        "train_rgb_file_list = glob(os.path.join(train_file_path,\"*RGB*png\"))\n",
        "train_label_file_list = glob(os.path.join(train_label_file_path,\"*png\"))\n",
        "\n",
        "validation_rgb_file_list = glob(os.path.join(validation_file_path,\"*RGB*png\"))\n",
        "validation_label_file_list = glob(os.path.join(validation_label_file_path,\"*png\"))"
      ],
      "metadata": {
        "id": "SQ_VBD5SJiYE"
      },
      "execution_count": 45,
      "outputs": []
    },
    {
      "cell_type": "code",
      "source": [
        "run_train_img = image_processing(train_rgb_file_list, train_save_path)\n",
        "run_train_label = image_processing(train_label_file_list, train_label_save_path)\n",
        "\n",
        "run_validation_img = image_processing(validation_rgb_file_list, validation_save_path)\n",
        "run_validation_label = image_processing(validation_label_file_list, validation_label_save_path)"
      ],
      "metadata": {
        "colab": {
          "base_uri": "https://localhost:8080/"
        },
        "id": "KgdzfZETWiWK",
        "outputId": "423e3b04-62e1-4cab-8a3b-5c37eb52a778"
      },
      "execution_count": 46,
      "outputs": [
        {
          "output_type": "stream",
          "name": "stdout",
          "text": [
            "130 장 전처리 완료.\n",
            "130 장 전처리 완료.\n",
            "16 장 전처리 완료.\n",
            "16 장 전처리 완료.\n"
          ]
        }
      ]
    }
  ]
}