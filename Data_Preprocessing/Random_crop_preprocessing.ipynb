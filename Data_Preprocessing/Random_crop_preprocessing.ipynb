{
  "nbformat": 4,
  "nbformat_minor": 0,
  "metadata": {
    "colab": {
      "name": "Random_crop_preprocessing.ipynb",
      "provenance": [],
      "collapsed_sections": [
        "JUEX1yT6ObHp",
        "9pCu1-2g6IE2"
      ]
    },
    "kernelspec": {
      "name": "python3",
      "display_name": "Python 3"
    },
    "language_info": {
      "name": "python"
    }
  },
  "cells": [
    {
      "cell_type": "markdown",
      "metadata": {
        "id": "JUEX1yT6ObHp"
      },
      "source": [
        "# Import Library"
      ]
    },
    {
      "cell_type": "code",
      "execution_count": 1,
      "metadata": {
        "id": "ROaksixkOV2l"
      },
      "outputs": [],
      "source": [
        "import numpy as np\n",
        "import math\n",
        "import natsort\n",
        "import cv2\n",
        "import os\n",
        "import matplotlib.pyplot as plt\n",
        "\n",
        "from google.colab import drive\n",
        "from glob import glob\n",
        "from PIL import Image\n",
        "from tensorflow import keras\n",
        "\n",
        "from tensorflow.keras.utils import *\n",
        "from tensorflow.keras.models import *\n",
        "from tensorflow.keras.layers import *\n",
        "from tensorflow.keras.optimizers import *"
      ]
    },
    {
      "cell_type": "code",
      "execution_count": 2,
      "metadata": {
        "colab": {
          "base_uri": "https://localhost:8080/"
        },
        "id": "aDEc6D04OdMw",
        "outputId": "a03673f9-54c1-4209-e635-146e67de00fb"
      },
      "outputs": [
        {
          "output_type": "stream",
          "name": "stdout",
          "text": [
            "Mounted at /content/drive\n"
          ]
        }
      ],
      "source": [
        "drive.mount('/content/drive')"
      ]
    },
    {
      "cell_type": "markdown",
      "source": [
        "# Random cropping processing"
      ],
      "metadata": {
        "id": "9pCu1-2g6IE2"
      }
    },
    {
      "cell_type": "code",
      "source": [
        "def sortlist(filelist):\n",
        "    filelist = natsort.natsorted(filelist)\n",
        "    return filelist"
      ],
      "metadata": {
        "id": "l8wa8TpF6Ld7"
      },
      "execution_count": null,
      "outputs": []
    },
    {
      "cell_type": "code",
      "source": [
        "train_dir_path = '/content/drive/MyDrive/Cloud_data/cloud_train/'\n",
        "validation_dir_path = '/content/drive/MyDrive/Cloud_data/cloud_validation/'\n",
        "\n",
        "train_file_path = os.path.join(train_dir_path,'train_clouds_data/png')\n",
        "train_save_path = os.path.join(train_dir_path,'crop_patch_img')\n",
        "\n",
        "train_label_file_path = os.path.join(train_dir_path,'train_clouds_labeling')\n",
        "train_label_save_path = os.path.join(train_dir_path,'crop_patch_labeling')\n",
        "\n",
        "validation_file_path = os.path.join(validation_dir_path,'validate_clouds_data/png')\n",
        "validation_save_path = os.path.join(validation_dir_path,'crop_patch_img')\n",
        "\n",
        "validation_label_file_path = os.path.join(validation_dir_path,'validate_clouds_labeling')\n",
        "validation_label_save_path = os.path.join(validation_dir_path,'crop_patch_labeling')"
      ],
      "metadata": {
        "id": "8gJ2mOlz6NGl"
      },
      "execution_count": null,
      "outputs": []
    },
    {
      "cell_type": "code",
      "source": [
        "train_rgb_file_list = glob(os.path.join(train_file_path,\"*RGB*png\"))\n",
        "train_label_file_list = glob(os.path.join(train_label_file_path,\"*png\"))\n",
        "\n",
        "validation_rgb_file_list = glob(os.path.join(validation_file_path,\"*RGB*png\"))\n",
        "validation_label_file_list = glob(os.path.join(validation_label_file_path,\"*png\"))"
      ],
      "metadata": {
        "id": "Xwlx0wQpEKJC"
      },
      "execution_count": null,
      "outputs": []
    },
    {
      "cell_type": "code",
      "source": [
        "train_rgb_file_list = sortlist(train_rgb_file_list)\n",
        "train_label_file_list = sortlist(train_label_file_list)\n",
        "\n",
        "validation_rgb_file_list = sortlist(validation_rgb_file_list)\n",
        "validation_label_file_list = sortlist(validation_label_file_list)"
      ],
      "metadata": {
        "id": "PwZjVDflEK7c"
      },
      "execution_count": null,
      "outputs": []
    },
    {
      "cell_type": "code",
      "source": [
        "def crop_random(path,crop_path,random_crop_size):\n",
        "    file_count = 0\n",
        "    for file_path in path:\n",
        "        file_count += 1\n",
        "        img = cv2.imread(file_path)\n",
        "        \n",
        "        height, width = img.shape[0], img.shape[1]\n",
        "        dy, dx = random_crop_size\n",
        "        for i in range(10):\n",
        "            x = np.random.randint(0, width - dx + 1)    # 0 ~ cropsize  randomNum\n",
        "            y = np.random.randint(0, height - dy + 1)   # 0 ~ cropsize  randomNum\n",
        "            #print(x,y)\n",
        "            crop_img = img[y:(y+dy), x:(x+dx),:]\n",
        "\n",
        "            save_path = crop_path + f'/img{file_count}_{i+1}.png'                   \n",
        "            #print(save_path)\n",
        "            cv2.imwrite(save_path, crop_img)\n",
        "    print(file_count,\"장 전처리 완료.\")\n",
        "\n",
        "crop_random(train_rgb_file_list,train_save_path,(800,800))\n",
        "crop_random(train_label_file_list,train_label_save_path,(800,800))\n",
        "crop_random(validation_rgb_file_list,validation_save_path,(800,800))\n",
        "crop_random(validation_label_file_list,validation_label_save_path,(800,800))"
      ],
      "metadata": {
        "id": "ev3zKAwyb6eX"
      },
      "execution_count": null,
      "outputs": []
    }
  ]
}